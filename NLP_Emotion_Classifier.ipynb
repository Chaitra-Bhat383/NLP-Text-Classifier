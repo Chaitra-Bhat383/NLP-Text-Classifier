{
 "cells": [
  {
   "cell_type": "markdown",
   "id": "36f38e2a-9998-4c73-bfc3-21b74d64a5ee",
   "metadata": {},
   "source": [
    "cd### End 2 End NLP Project\n",
    "+ Emotion Detection In Text \n",
    "+ Text Classifier"
   ]
  },
  {
   "cell_type": "code",
   "execution_count": 49,
   "id": "f0814628-3d83-4fd6-a511-2eccf79f9f1e",
   "metadata": {},
   "outputs": [],
   "source": [
    "# Load EDA Pkgs\n",
    "import pandas as pd\n",
    "import numpy as np"
   ]
  },
  {
   "cell_type": "code",
   "execution_count": 50,
   "id": "ea0d580d-c31c-44b7-b09b-10225857eebe",
   "metadata": {},
   "outputs": [],
   "source": [
    "# Load Data Viz Pkgs\n",
    "import seaborn as sns"
   ]
  },
  {
   "cell_type": "code",
   "execution_count": 51,
   "id": "91eccfbf-d4d0-4e16-b0f7-2d7941efddb0",
   "metadata": {},
   "outputs": [],
   "source": [
    "# Load Text Cleaning Pkgs\n",
    "import neattext.functions as nfx"
   ]
  },
  {
   "cell_type": "code",
   "execution_count": 52,
   "id": "21e7e868-35fb-483f-82b6-842a29ef1342",
   "metadata": {},
   "outputs": [],
   "source": [
    "# Load ML Pkgs\n",
    "# Estimators\n",
    "from sklearn.linear_model import LogisticRegression\n",
    "from sklearn.naive_bayes import MultinomialNB\n",
    "\n",
    "# Transformers\n",
    "from sklearn.feature_extraction.text import CountVectorizer\n",
    "from sklearn.model_selection import train_test_split\n",
    "from sklearn.metrics import accuracy_score,classification_report,confusion_matrix"
   ]
  },
  {
   "cell_type": "code",
   "execution_count": 53,
   "id": "b209e004-ab77-4407-8689-b4318944d47f",
   "metadata": {},
   "outputs": [],
   "source": [
    "# Load Dataset\n",
    "df = pd.read_csv(\"data/emotion_dataset_raw.csv\")"
   ]
  },
  {
   "cell_type": "code",
   "execution_count": 54,
   "id": "fea2d4c0-3bdd-405e-ab69-507ceaac36cb",
   "metadata": {},
   "outputs": [
    {
     "data": {
      "text/plain": "   Emotion                                               Text\n0  neutral                                             Why ? \n1      joy    Sage Act upgrade on my to do list for tommorow.\n2  sadness  ON THE WAY TO MY HOMEGIRL BABY FUNERAL!!! MAN ...\n3      joy   Such an eye ! The true hazel eye-and so brill...\n4      joy  @Iluvmiasantos ugh babe.. hugggzzz for u .!  b...",
      "text/html": "<div>\n<style scoped>\n    .dataframe tbody tr th:only-of-type {\n        vertical-align: middle;\n    }\n\n    .dataframe tbody tr th {\n        vertical-align: top;\n    }\n\n    .dataframe thead th {\n        text-align: right;\n    }\n</style>\n<table border=\"1\" class=\"dataframe\">\n  <thead>\n    <tr style=\"text-align: right;\">\n      <th></th>\n      <th>Emotion</th>\n      <th>Text</th>\n    </tr>\n  </thead>\n  <tbody>\n    <tr>\n      <th>0</th>\n      <td>neutral</td>\n      <td>Why ?</td>\n    </tr>\n    <tr>\n      <th>1</th>\n      <td>joy</td>\n      <td>Sage Act upgrade on my to do list for tommorow.</td>\n    </tr>\n    <tr>\n      <th>2</th>\n      <td>sadness</td>\n      <td>ON THE WAY TO MY HOMEGIRL BABY FUNERAL!!! MAN ...</td>\n    </tr>\n    <tr>\n      <th>3</th>\n      <td>joy</td>\n      <td>Such an eye ! The true hazel eye-and so brill...</td>\n    </tr>\n    <tr>\n      <th>4</th>\n      <td>joy</td>\n      <td>@Iluvmiasantos ugh babe.. hugggzzz for u .!  b...</td>\n    </tr>\n  </tbody>\n</table>\n</div>"
     },
     "execution_count": 54,
     "metadata": {},
     "output_type": "execute_result"
    }
   ],
   "source": [
    "df.head()"
   ]
  },
  {
   "cell_type": "code",
   "execution_count": 55,
   "id": "430565a3-cf3b-4c6f-afa5-bafd084f5676",
   "metadata": {},
   "outputs": [
    {
     "data": {
      "text/plain": "joy         11045\nsadness      6722\nfear         5410\nanger        4297\nsurprise     4062\nneutral      2254\ndisgust       856\nshame         146\nName: Emotion, dtype: int64"
     },
     "execution_count": 55,
     "metadata": {},
     "output_type": "execute_result"
    }
   ],
   "source": [
    "# Value Counts\n",
    "df['Emotion'].value_counts()"
   ]
  },
  {
   "cell_type": "code",
   "execution_count": 56,
   "id": "531d3449-a959-4a19-bff0-3ffed551e619",
   "metadata": {},
   "outputs": [
    {
     "data": {
      "text/plain": "<AxesSubplot:xlabel='Emotion', ylabel='count'>"
     },
     "execution_count": 56,
     "metadata": {},
     "output_type": "execute_result"
    },
    {
     "data": {
      "text/plain": "<Figure size 432x288 with 1 Axes>",
      "image/png": "[encoded data removed]"
     },
     "metadata": {
      "needs_background": "light"
     },
     "output_type": "display_data"
    }
   ],
   "source": [
    "# Plot\n",
    "sns.countplot(x='Emotion',data=df)"
   ]
  },
  {
   "cell_type": "code",
   "execution_count": 57,
   "id": "40f991d0-952f-40c1-bf00-f3476ce0436d",
   "metadata": {
    "collapsed": true,
    "jupyter": {
     "outputs_hidden": true
    },
    "tags": []
   },
   "outputs": [
    {
     "data": {
      "text/plain": "['BTC_ADDRESS_REGEX',\n 'CURRENCY_REGEX',\n 'CURRENCY_SYMB_REGEX',\n 'Counter',\n 'DATE_REGEX',\n 'EMAIL_REGEX',\n 'EMOJI_REGEX',\n 'HASTAG_REGEX',\n 'MASTERCard_REGEX',\n 'MD5_SHA_REGEX',\n 'MOST_COMMON_PUNCT_REGEX',\n 'NUMBERS_REGEX',\n 'PHONE_REGEX',\n 'PoBOX_REGEX',\n 'SPECIAL_CHARACTERS_REGEX',\n 'STOPWORDS',\n 'STOPWORDS_de',\n 'STOPWORDS_en',\n 'STOPWORDS_es',\n 'STOPWORDS_fr',\n 'STOPWORDS_ru',\n 'STOPWORDS_yo',\n 'STREET_ADDRESS_REGEX',\n 'TextFrame',\n 'URL_PATTERN',\n 'USER_HANDLES_REGEX',\n 'VISACard_REGEX',\n '__builtins__',\n '__cached__',\n '__doc__',\n '__file__',\n '__generate_text',\n '__loader__',\n '__name__',\n '__numbers_dict',\n '__package__',\n '__spec__',\n '_lex_richness_herdan',\n '_lex_richness_maas_ttr',\n 'clean_text',\n 'defaultdict',\n 'digit2words',\n 'extract_btc_address',\n 'extract_currencies',\n 'extract_currency_symbols',\n 'extract_dates',\n 'extract_emails',\n 'extract_emojis',\n 'extract_hashtags',\n 'extract_html_tags',\n 'extract_mastercard_addr',\n 'extract_md5sha',\n 'extract_numbers',\n 'extract_pattern',\n 'extract_phone_numbers',\n 'extract_postoffice_box',\n 'extract_shortwords',\n 'extract_special_characters',\n 'extract_stopwords',\n 'extract_street_address',\n 'extract_terms_in_bracket',\n 'extract_urls',\n 'extract_userhandles',\n 'extract_visacard_addr',\n 'fix_contractions',\n 'generate_sentence',\n 'hamming_distance',\n 'inverse_df',\n 'lexical_richness',\n 'markov_chain',\n 'math',\n 'nlargest',\n 'normalize',\n 'num2words',\n 'random',\n 're',\n 'read_txt',\n 'remove_bad_quotes',\n 'remove_btc_address',\n 'remove_currencies',\n 'remove_currency_symbols',\n 'remove_custom_pattern',\n 'remove_custom_words',\n 'remove_dates',\n 'remove_emails',\n 'remove_emojis',\n 'remove_hashtags',\n 'remove_html_tags',\n 'remove_mastercard_addr',\n 'remove_md5sha',\n 'remove_multiple_spaces',\n 'remove_non_ascii',\n 'remove_numbers',\n 'remove_phone_numbers',\n 'remove_postoffice_box',\n 'remove_puncts',\n 'remove_punctuations',\n 'remove_shortwords',\n 'remove_special_characters',\n 'remove_stopwords',\n 'remove_street_address',\n 'remove_terms_in_bracket',\n 'remove_urls',\n 'remove_userhandles',\n 'remove_visacard_addr',\n 'replace_bad_quotes',\n 'replace_currencies',\n 'replace_currency_symbols',\n 'replace_dates',\n 'replace_emails',\n 'replace_emojis',\n 'replace_numbers',\n 'replace_phone_numbers',\n 'replace_special_characters',\n 'replace_term',\n 'replace_urls',\n 'string',\n 'term_freq',\n 'to_txt',\n 'word_freq',\n 'word_length_freq']"
     },
     "execution_count": 57,
     "metadata": {},
     "output_type": "execute_result"
    }
   ],
   "source": [
    "# Data Cleaning\n",
    "dir(nfx)"
   ]
  },
  {
   "cell_type": "code",
   "execution_count": 58,
   "id": "b1f87847-a91c-4bd6-a307-d746eb5aa9a0",
   "metadata": {},
   "outputs": [],
   "source": [
    "# User handles\n",
    "df['Clean_Text'] = df['Text'].apply(nfx.remove_userhandles)"
   ]
  },
  {
   "cell_type": "code",
   "execution_count": 59,
   "id": "03886bc3-1ac4-4f1b-842b-e5d2d770ff81",
   "metadata": {},
   "outputs": [],
   "source": [
    "# Stopwords\n",
    "df['Clean_Text'] = df['Clean_Text'].apply(nfx.remove_stopwords)"
   ]
  },
  {
   "cell_type": "code",
   "execution_count": 60,
   "id": "0a0fcc0c-4adf-4f0b-b226-164659ad70ba",
   "metadata": {
    "collapsed": true,
    "jupyter": {
     "outputs_hidden": true
    },
    "tags": []
   },
   "outputs": [
    {
     "data": {
      "text/plain": "        Emotion                                               Text  \\\n0       neutral                                             Why ?    \n1           joy    Sage Act upgrade on my to do list for tommorow.   \n2       sadness  ON THE WAY TO MY HOMEGIRL BABY FUNERAL!!! MAN ...   \n3           joy   Such an eye ! The true hazel eye-and so brill...   \n4           joy  @Iluvmiasantos ugh babe.. hugggzzz for u .!  b...   \n5          fear  I'm expecting an extremely important phonecall...   \n6       sadness   .Couldnt wait to see them live. If missing th...   \n7      surprise  maken Tip 2: Stop op een moment dat je het hel...   \n8      surprise  En dan krijg je ff een cadeautje van een tweep...   \n9      surprise   @1116am Drummer Boy bij op verzoek van @BiemO...   \n10        anger  The bull tossed the effigy out of their hands ...   \n11      sadness            People hide their behind a #fake smile.   \n12          joy  For once in his life , Leopold must have been ...   \n13         fear  Against the assault of laughter nothing can st...   \n14        anger   With everything , with everybody , with all t...   \n15      sadness  Shakuhachi dress $580,  10-22 mm lens $708 #pa...   \n16     surprise  Haha of course I come home to a different hous...   \n17          joy    I have a feeling i will fail french #fuckfrench   \n18          joy                             Good.Let ' s go now .    \n19     surprise  @JuliaLeader I reeeeeellllyyyyyyy need to tell...   \n20      sadness    Oh , that's too bad . Should I call a doctor ?    \n21          joy  When I fell in love with \\X\\\".  Overnight I fe...   \n22         fear  is a primitive #Instinct that's your friend.It...   \n23        anger                           I have to talk to you !    \n24         fear  I was riding with a friend in his car. At a sp...   \n25      sadness  you're so welcome @madelineerich8! so glad I c...   \n26     surprise  another ending? i almost pooped my pants at th...   \n27          joy  One could get terribly ecstatic but that would...   \n28      sadness  So much for losing something.. Going to fat bu...   \n29          joy   When I was selected to study here at university.   \n...         ...                                                ...   \n34762     anger  letting Explosions in the Sky express your pen...   \n34763     anger       ` You 're angry I 'm here , are n't you ? \"    \n34764      fear  Once when I was walking alone at mid-night, I ...   \n34765   neutral                                            Sure .    \n34766       joy                  Transpose, transpose, transpose.    \n34767   sadness  The thought that I'll never sit at the school ...   \n34768       joy  Hope both feel better soon! RT @lezbionic: Bro...   \n34769       joy  What a long, painful days work. Same again tom...   \n34770  surprise  Ten minutes late to work today (again) and my ...   \n34771   neutral                                         Too bad .    \n34772       joy  I got the one person I've no idea what to buy ...   \n34773      fear  Best thing ive heard all day....RT @RevRunWisd...   \n34774      fear  If your child is  reassure her something will ...   \n34775     anger  Iv used my monthly allowance of Internet data ...   \n34776       joy  When finally I found a place to live, I felt r...   \n34777       joy  Taking a break from studying just to go to yet...   \n34778       joy                 In other news, my mum made EFO.      \n34779     anger  Love when i dont beat my highscore in doodleju...   \n34780  surprise  why is my paper not finished? oh that's right,...   \n34781      fear  Tom Shakeshaft , who is 15 , reveals his disma...   \n34782      fear  @JulieCarney27 world of pain... But, got up,bo...   \n34783   neutral                                         Not yet .    \n34784       joy  ~ As musicas que nois danço com os munitores t...   \n34785       joy  When I understood that I was admitted to the U...   \n34786       joy    Tuesday woken up to Oscar and Cornet practice X   \n34787  surprise  @MichelGW have you gift! Hope you like it! It'...   \n34788       joy  The world didnt give it to me..so the world MO...   \n34789     anger                           A man robbed me today .    \n34790      fear  Youu call it JEALOUSY, I call it of #Losing YO...   \n34791   sadness  I think about you baby, and I dream about you ...   \n\n                                              Clean_Text  \n0                                                      ?  \n1                        Sage Act upgrade list tommorow.  \n2      WAY HOMEGIRL BABY FUNERAL!!! MAN HATE FUNERALS...  \n3      eye ! true hazel eye-and brilliant ! Regular f...  \n4      ugh babe.. hugggzzz u .! babe naamazed nga ako...  \n5      I'm expecting extremely important phonecall mi...  \n6      .Couldnt wait live. missing NH7 wasnt painful ...  \n7      maken Tip 2: Stop op een moment dat je het hel...  \n8      En dan krijg je ff een cadeautje van een tweep...  \n9      Drummer Boy bij op verzoek van . : welke uitvo...  \n10               bull tossed effigy hands infuriated . \"  \n11                              People hide #fake smile.  \n12     life , Leopold truly happy : hopes prayers bel...  \n13     assault laughter stand. ~ Mark Twain #emotiona...  \n14                                       , everybody , !  \n15     Shakuhachi dress $580, 10-22 mm lens $708 #pai...  \n16     Haha course come home different house, leave p...  \n17                       feeling fail french #fuckfrench  \n18                                          Good.Let ' .  \n19     reeeeeellllyyyyyyy need tell something, guess ...  \n20                            Oh , that's bad . doctor ?  \n21     fell love \\X\\\". Overnight felt confidence, sel...  \n22     primitive #Instinct that's friend.It warns pay...  \n23                                                talk !  \n24     riding friend car. speed 120 km/h snow-covered...  \n25     welcome glad night! love you. leave :( i'm gon...  \n26     ending? pooped pants end weeks crazy ending! #...  \n27                   terribly ecstatic dangerous thing .  \n28        losing something.. Going fat burger dinner dad  \n29                            selected study university.  \n...                                                  ...  \n34762  letting Explosions Sky express pent-up emotion...  \n34763                           ` 're angry 'm , n't ? \"  \n34764  walking mid-night, happened foot frog, felt sm...  \n34765                                             Sure .  \n34766                   Transpose, transpose, transpose.  \n34767  thought I'll sit school desk again, caused dee...  \n34768  Hope feel better soon! RT Bronchitis me. Upper...  \n34769                 long, painful days work. tomorrow.  \n34770  minutes late work today (again) boss randomly ...  \n34771                                              bad .  \n34772        got person I've idea buy form secret santa.  \n34773  Best thing ive heard day....RT afraid tomorrow...  \n34774        child reassure provide psychological relief  \n34775  Iv monthly allowance Internet data apparently ...  \n34776  finally found place live, felt relieved, predi...  \n34777          Taking break studying doctors appointment  \n34778                                     news, mum EFO.  \n34779  Love dont beat highscore doodlejump throw phon...  \n34780  paper finished? oh that's right, ass stuck twi...  \n34781  Tom Shakeshaft , 15 , reveals dismay plans dri...  \n34782  world pain... But, got up,bought decorations &...  \n34783                                                  .  \n34784  ~ musicas que nois danço com os munitores todo...  \n34785                    understood admitted University.  \n34786              Tuesday woken Oscar Cornet practice X  \n34787    gift! Hope like it! hand wear ! It'll warm! Lol  \n34788    world didnt me..so world DEFINITELY cnt away!!!  \n34789                                 man robbed today .  \n34790                      Youu JEALOUSY, #Losing YOU...  \n34791                             think baby, dream time  \n\n[34792 rows x 3 columns]",
      "text/html": "<div>\n<style scoped>\n    .dataframe tbody tr th:only-of-type {\n        vertical-align: middle;\n    }\n\n    .dataframe tbody tr th {\n        vertical-align: top;\n    }\n\n    .dataframe thead th {\n        text-align: right;\n    }\n</style>\n<table border=\"1\" class=\"dataframe\">\n  <thead>\n    <tr style=\"text-align: right;\">\n      <th></th>\n      <th>Emotion</th>\n      <th>Text</th>\n      <th>Clean_Text</th>\n    </tr>\n  </thead>\n  <tbody>\n    <tr>\n      <th>0</th>\n      <td>neutral</td>\n      <td>Why ?</td>\n      <td>?</td>\n    </tr>\n    <tr>\n      <th>1</th>\n      <td>joy</td>\n      <td>Sage Act upgrade on my to do list for tommorow.</td>\n      <td>Sage Act upgrade list tommorow.</td>\n    </tr>\n    <tr>\n      <th>2</th>\n      <td>sadness</td>\n      <td>ON THE WAY TO MY HOMEGIRL BABY FUNERAL!!! MAN ...</td>\n      <td>WAY HOMEGIRL BABY FUNERAL!!! MAN HATE FUNERALS...</td>\n    </tr>\n    <tr>\n      <th>3</th>\n      <td>joy</td>\n      <td>Such an eye ! The true hazel eye-and so brill...</td>\n      <td>eye ! true hazel eye-and brilliant ! Regular f...</td>\n    </tr>\n    <tr>\n      <th>4</th>\n      <td>joy</td>\n      <td>@Iluvmiasantos ugh babe.. hugggzzz for u .!  b...</td>\n      <td>ugh babe.. hugggzzz u .! babe naamazed nga ako...</td>\n    </tr>\n    <tr>\n      <th>5</th>\n      <td>fear</td>\n      <td>I'm expecting an extremely important phonecall...</td>\n      <td>I'm expecting extremely important phonecall mi...</td>\n    </tr>\n    <tr>\n      <th>6</th>\n      <td>sadness</td>\n      <td>.Couldnt wait to see them live. If missing th...</td>\n      <td>.Couldnt wait live. missing NH7 wasnt painful ...</td>\n    </tr>\n    <tr>\n      <th>7</th>\n      <td>surprise</td>\n      <td>maken Tip 2: Stop op een moment dat je het hel...</td>\n      <td>maken Tip 2: Stop op een moment dat je het hel...</td>\n    </tr>\n    <tr>\n      <th>8</th>\n      <td>surprise</td>\n      <td>En dan krijg je ff een cadeautje van een tweep...</td>\n      <td>En dan krijg je ff een cadeautje van een tweep...</td>\n    </tr>\n    <tr>\n      <th>9</th>\n      <td>surprise</td>\n      <td>@1116am Drummer Boy bij op verzoek van @BiemO...</td>\n      <td>Drummer Boy bij op verzoek van . : welke uitvo...</td>\n    </tr>\n    <tr>\n      <th>10</th>\n      <td>anger</td>\n      <td>The bull tossed the effigy out of their hands ...</td>\n      <td>bull tossed effigy hands infuriated . \"</td>\n    </tr>\n    <tr>\n      <th>11</th>\n      <td>sadness</td>\n      <td>People hide their behind a #fake smile.</td>\n      <td>People hide #fake smile.</td>\n    </tr>\n    <tr>\n      <th>12</th>\n      <td>joy</td>\n      <td>For once in his life , Leopold must have been ...</td>\n      <td>life , Leopold truly happy : hopes prayers bel...</td>\n    </tr>\n    <tr>\n      <th>13</th>\n      <td>fear</td>\n      <td>Against the assault of laughter nothing can st...</td>\n      <td>assault laughter stand. ~ Mark Twain #emotiona...</td>\n    </tr>\n    <tr>\n      <th>14</th>\n      <td>anger</td>\n      <td>With everything , with everybody , with all t...</td>\n      <td>, everybody , !</td>\n    </tr>\n    <tr>\n      <th>15</th>\n      <td>sadness</td>\n      <td>Shakuhachi dress $580,  10-22 mm lens $708 #pa...</td>\n      <td>Shakuhachi dress $580, 10-22 mm lens $708 #pai...</td>\n    </tr>\n    <tr>\n      <th>16</th>\n      <td>surprise</td>\n      <td>Haha of course I come home to a different hous...</td>\n      <td>Haha course come home different house, leave p...</td>\n    </tr>\n    <tr>\n      <th>17</th>\n      <td>joy</td>\n      <td>I have a feeling i will fail french #fuckfrench</td>\n      <td>feeling fail french #fuckfrench</td>\n    </tr>\n    <tr>\n      <th>18</th>\n      <td>joy</td>\n      <td>Good.Let ' s go now .</td>\n      <td>Good.Let ' .</td>\n    </tr>\n    <tr>\n      <th>19</th>\n      <td>surprise</td>\n      <td>@JuliaLeader I reeeeeellllyyyyyyy need to tell...</td>\n      <td>reeeeeellllyyyyyyy need tell something, guess ...</td>\n    </tr>\n    <tr>\n      <th>20</th>\n      <td>sadness</td>\n      <td>Oh , that's too bad . Should I call a doctor ?</td>\n      <td>Oh , that's bad . doctor ?</td>\n    </tr>\n    <tr>\n      <th>21</th>\n      <td>joy</td>\n      <td>When I fell in love with \\X\\\".  Overnight I fe...</td>\n      <td>fell love \\X\\\". Overnight felt confidence, sel...</td>\n    </tr>\n    <tr>\n      <th>22</th>\n      <td>fear</td>\n      <td>is a primitive #Instinct that's your friend.It...</td>\n      <td>primitive #Instinct that's friend.It warns pay...</td>\n    </tr>\n    <tr>\n      <th>23</th>\n      <td>anger</td>\n      <td>I have to talk to you !</td>\n      <td>talk !</td>\n    </tr>\n    <tr>\n      <th>24</th>\n      <td>fear</td>\n      <td>I was riding with a friend in his car. At a sp...</td>\n      <td>riding friend car. speed 120 km/h snow-covered...</td>\n    </tr>\n    <tr>\n      <th>25</th>\n      <td>sadness</td>\n      <td>you're so welcome @madelineerich8! so glad I c...</td>\n      <td>welcome glad night! love you. leave :( i'm gon...</td>\n    </tr>\n    <tr>\n      <th>26</th>\n      <td>surprise</td>\n      <td>another ending? i almost pooped my pants at th...</td>\n      <td>ending? pooped pants end weeks crazy ending! #...</td>\n    </tr>\n    <tr>\n      <th>27</th>\n      <td>joy</td>\n      <td>One could get terribly ecstatic but that would...</td>\n      <td>terribly ecstatic dangerous thing .</td>\n    </tr>\n    <tr>\n      <th>28</th>\n      <td>sadness</td>\n      <td>So much for losing something.. Going to fat bu...</td>\n      <td>losing something.. Going fat burger dinner dad</td>\n    </tr>\n    <tr>\n      <th>29</th>\n      <td>joy</td>\n      <td>When I was selected to study here at university.</td>\n      <td>selected study university.</td>\n    </tr>\n    <tr>\n      <th>...</th>\n      <td>...</td>\n      <td>...</td>\n      <td>...</td>\n    </tr>\n    <tr>\n      <th>34762</th>\n      <td>anger</td>\n      <td>letting Explosions in the Sky express your pen...</td>\n      <td>letting Explosions Sky express pent-up emotion...</td>\n    </tr>\n    <tr>\n      <th>34763</th>\n      <td>anger</td>\n      <td>` You 're angry I 'm here , are n't you ? \"</td>\n      <td>` 're angry 'm , n't ? \"</td>\n    </tr>\n    <tr>\n      <th>34764</th>\n      <td>fear</td>\n      <td>Once when I was walking alone at mid-night, I ...</td>\n      <td>walking mid-night, happened foot frog, felt sm...</td>\n    </tr>\n    <tr>\n      <th>34765</th>\n      <td>neutral</td>\n      <td>Sure .</td>\n      <td>Sure .</td>\n    </tr>\n    <tr>\n      <th>34766</th>\n      <td>joy</td>\n      <td>Transpose, transpose, transpose.</td>\n      <td>Transpose, transpose, transpose.</td>\n    </tr>\n    <tr>\n      <th>34767</th>\n      <td>sadness</td>\n      <td>The thought that I'll never sit at the school ...</td>\n      <td>thought I'll sit school desk again, caused dee...</td>\n    </tr>\n    <tr>\n      <th>34768</th>\n      <td>joy</td>\n      <td>Hope both feel better soon! RT @lezbionic: Bro...</td>\n      <td>Hope feel better soon! RT Bronchitis me. Upper...</td>\n    </tr>\n    <tr>\n      <th>34769</th>\n      <td>joy</td>\n      <td>What a long, painful days work. Same again tom...</td>\n      <td>long, painful days work. tomorrow.</td>\n    </tr>\n    <tr>\n      <th>34770</th>\n      <td>surprise</td>\n      <td>Ten minutes late to work today (again) and my ...</td>\n      <td>minutes late work today (again) boss randomly ...</td>\n    </tr>\n    <tr>\n      <th>34771</th>\n      <td>neutral</td>\n      <td>Too bad .</td>\n      <td>bad .</td>\n    </tr>\n    <tr>\n      <th>34772</th>\n      <td>joy</td>\n      <td>I got the one person I've no idea what to buy ...</td>\n      <td>got person I've idea buy form secret santa.</td>\n    </tr>\n    <tr>\n      <th>34773</th>\n      <td>fear</td>\n      <td>Best thing ive heard all day....RT @RevRunWisd...</td>\n      <td>Best thing ive heard day....RT afraid tomorrow...</td>\n    </tr>\n    <tr>\n      <th>34774</th>\n      <td>fear</td>\n      <td>If your child is  reassure her something will ...</td>\n      <td>child reassure provide psychological relief</td>\n    </tr>\n    <tr>\n      <th>34775</th>\n      <td>anger</td>\n      <td>Iv used my monthly allowance of Internet data ...</td>\n      <td>Iv monthly allowance Internet data apparently ...</td>\n    </tr>\n    <tr>\n      <th>34776</th>\n      <td>joy</td>\n      <td>When finally I found a place to live, I felt r...</td>\n      <td>finally found place live, felt relieved, predi...</td>\n    </tr>\n    <tr>\n      <th>34777</th>\n      <td>joy</td>\n      <td>Taking a break from studying just to go to yet...</td>\n      <td>Taking break studying doctors appointment</td>\n    </tr>\n    <tr>\n      <th>34778</th>\n      <td>joy</td>\n      <td>In other news, my mum made EFO.</td>\n      <td>news, mum EFO.</td>\n    </tr>\n    <tr>\n      <th>34779</th>\n      <td>anger</td>\n      <td>Love when i dont beat my highscore in doodleju...</td>\n      <td>Love dont beat highscore doodlejump throw phon...</td>\n    </tr>\n    <tr>\n      <th>34780</th>\n      <td>surprise</td>\n      <td>why is my paper not finished? oh that's right,...</td>\n      <td>paper finished? oh that's right, ass stuck twi...</td>\n    </tr>\n    <tr>\n      <th>34781</th>\n      <td>fear</td>\n      <td>Tom Shakeshaft , who is 15 , reveals his disma...</td>\n      <td>Tom Shakeshaft , 15 , reveals dismay plans dri...</td>\n    </tr>\n    <tr>\n      <th>34782</th>\n      <td>fear</td>\n      <td>@JulieCarney27 world of pain... But, got up,bo...</td>\n      <td>world pain... But, got up,bought decorations &amp;...</td>\n    </tr>\n    <tr>\n      <th>34783</th>\n      <td>neutral</td>\n      <td>Not yet .</td>\n      <td>.</td>\n    </tr>\n    <tr>\n      <th>34784</th>\n      <td>joy</td>\n      <td>~ As musicas que nois danço com os munitores t...</td>\n      <td>~ musicas que nois danço com os munitores todo...</td>\n    </tr>\n    <tr>\n      <th>34785</th>\n      <td>joy</td>\n      <td>When I understood that I was admitted to the U...</td>\n      <td>understood admitted University.</td>\n    </tr>\n    <tr>\n      <th>34786</th>\n      <td>joy</td>\n      <td>Tuesday woken up to Oscar and Cornet practice X</td>\n      <td>Tuesday woken Oscar Cornet practice X</td>\n    </tr>\n    <tr>\n      <th>34787</th>\n      <td>surprise</td>\n      <td>@MichelGW have you gift! Hope you like it! It'...</td>\n      <td>gift! Hope like it! hand wear ! It'll warm! Lol</td>\n    </tr>\n    <tr>\n      <th>34788</th>\n      <td>joy</td>\n      <td>The world didnt give it to me..so the world MO...</td>\n      <td>world didnt me..so world DEFINITELY cnt away!!!</td>\n    </tr>\n    <tr>\n      <th>34789</th>\n      <td>anger</td>\n      <td>A man robbed me today .</td>\n      <td>man robbed today .</td>\n    </tr>\n    <tr>\n      <th>34790</th>\n      <td>fear</td>\n      <td>Youu call it JEALOUSY, I call it of #Losing YO...</td>\n      <td>Youu JEALOUSY, #Losing YOU...</td>\n    </tr>\n    <tr>\n      <th>34791</th>\n      <td>sadness</td>\n      <td>I think about you baby, and I dream about you ...</td>\n      <td>think baby, dream time</td>\n    </tr>\n  </tbody>\n</table>\n<p>34792 rows × 3 columns</p>\n</div>"
     },
     "execution_count": 60,
     "metadata": {},
     "output_type": "execute_result"
    }
   ],
   "source": [
    "df"
   ]
  },
  {
   "cell_type": "code",
   "execution_count": 61,
   "id": "450c39c0-79dd-4eaf-85fe-57e344eb81bd",
   "metadata": {},
   "outputs": [],
   "source": [
    "# Features & Labels\n",
    "Xfeatures = df['Clean_Text']\n",
    "ylabels = df['Emotion']"
   ]
  },
  {
   "cell_type": "code",
   "execution_count": 62,
   "id": "27d7f976-c28f-449e-ae1a-53a42bbda4e8",
   "metadata": {},
   "outputs": [],
   "source": [
    "#  Split Data\n",
    "x_train,x_test,y_train,y_test = train_test_split(Xfeatures,ylabels,test_size=0.3,random_state=42)"
   ]
  },
  {
   "cell_type": "code",
   "execution_count": 63,
   "id": "2f086f29-dba9-40d2-a9dd-f06a6cca3a4c",
   "metadata": {},
   "outputs": [],
   "source": [
    "# Build Pipeline\n",
    "from sklearn.pipeline import Pipeline"
   ]
  },
  {
   "cell_type": "code",
   "execution_count": 64,
   "id": "6b81cc86-2bef-40c2-b9a3-668caaadaff0",
   "metadata": {},
   "outputs": [],
   "source": [
    "# LogisticRegression Pipeline\n",
    "pipe_lr = Pipeline(steps=[('cv',CountVectorizer()),('lr',LogisticRegression())])"
   ]
  },
  {
   "cell_type": "code",
   "execution_count": 65,
   "id": "dc64b9a7-efe2-4bc4-a0e7-46dff1d52b31",
   "metadata": {
    "collapsed": true,
    "jupyter": {
     "outputs_hidden": true
    },
    "tags": []
   },
   "outputs": [
    {
     "name": "stderr",
     "output_type": "stream",
     "text": [
      "C:\\Users\\Admin\\anaconda3\\envs\\pytorch\\lib\\site-packages\\sklearn\\linear_model\\_logistic.py:765: ConvergenceWarning: lbfgs failed to converge (status=1):\n",
      "STOP: TOTAL NO. of ITERATIONS REACHED LIMIT.\n",
      "\n",
      "Increase the number of iterations (max_iter) or scale the data as shown in:\n",
      "    https://scikit-learn.org/stable/modules/preprocessing.html\n",
      "Please also refer to the documentation for alternative solver options:\n",
      "    https://scikit-learn.org/stable/modules/linear_model.html#logistic-regression\n",
      "  extra_warning_msg=_LOGISTIC_SOLVER_CONVERGENCE_MSG)\n"
     ]
    },
    {
     "data": {
      "text/plain": "Pipeline(steps=[('cv', CountVectorizer()), ('lr', LogisticRegression())])"
     },
     "execution_count": 65,
     "metadata": {},
     "output_type": "execute_result"
    }
   ],
   "source": [
    "# Train and Fit Data\n",
    "pipe_lr.fit(x_train,y_train)"
   ]
  },
  {
   "cell_type": "code",
   "execution_count": 66,
   "id": "135ed6f8-56ff-4d53-85e3-541e3a7ae2d7",
   "metadata": {},
   "outputs": [
    {
     "data": {
      "text/plain": "Pipeline(steps=[('cv', CountVectorizer()), ('lr', LogisticRegression())])"
     },
     "execution_count": 66,
     "metadata": {},
     "output_type": "execute_result"
    }
   ],
   "source": [
    "pipe_lr"
   ]
  },
  {
   "cell_type": "code",
   "execution_count": 67,
   "id": "28396371-5f5c-4a3b-b974-164e047764f3",
   "metadata": {},
   "outputs": [
    {
     "data": {
      "text/plain": "0.6200421536692853"
     },
     "execution_count": 67,
     "metadata": {},
     "output_type": "execute_result"
    }
   ],
   "source": [
    "# Check Accuracy\n",
    "pipe_lr.score(x_test,y_test)"
   ]
  },
  {
   "cell_type": "code",
   "execution_count": 68,
   "id": "eb3a26b6-d09e-422f-991b-b08c48f55b75",
   "metadata": {},
   "outputs": [],
   "source": [
    "# Make A Prediction\n",
    "ex1 = \"This book was so interesting it made me happy\""
   ]
  },
  {
   "cell_type": "code",
   "execution_count": 69,
   "id": "b08597d9-6f59-45cb-a648-95b0da1ce313",
   "metadata": {},
   "outputs": [
    {
     "data": {
      "text/plain": "array(['joy'], dtype=object)"
     },
     "execution_count": 69,
     "metadata": {},
     "output_type": "execute_result"
    }
   ],
   "source": [
    "pipe_lr.predict([ex1])"
   ]
  },
  {
   "cell_type": "code",
   "execution_count": 70,
   "id": "5b3822ac-17fc-43dd-9bb7-8dad07a4d32c",
   "metadata": {},
   "outputs": [
    {
     "data": {
      "text/plain": "array([[1.60395969e-03, 7.06093710e-03, 6.95877957e-03, 9.43790359e-01,\n        1.00433761e-04, 2.63461456e-02, 6.64779798e-05, 1.40729072e-02]])"
     },
     "execution_count": 70,
     "metadata": {},
     "output_type": "execute_result"
    }
   ],
   "source": [
    "# Prediction Prob\n",
    "pipe_lr.predict_proba([ex1])"
   ]
  },
  {
   "cell_type": "code",
   "execution_count": 71,
   "id": "5b7c4596-d643-48e5-a777-79a6f55c49da",
   "metadata": {},
   "outputs": [
    {
     "data": {
      "text/plain": "array(['anger', 'disgust', 'fear', 'joy', 'neutral', 'sadness', 'shame',\n       'surprise'], dtype=object)"
     },
     "execution_count": 71,
     "metadata": {},
     "output_type": "execute_result"
    }
   ],
   "source": [
    "# To Know the classes\n",
    "pipe_lr.classes_"
   ]
  },
  {
   "cell_type": "code",
   "execution_count": 72,
   "id": "c0d40f62-b1fd-4748-a279-c8f50c748f26",
   "metadata": {},
   "outputs": [],
   "source": [
    "# Save Model & Pipeline\n",
    "import joblib\n",
    "pipeline_file = open(\"Emotion_Classifier.pkl\",\"wb\")\n",
    "joblib.dump(pipe_lr,pipeline_file)\n",
    "pipeline_file.close()"
   ]
  },
  {
   "cell_type": "code",
   "execution_count": 72,
   "id": "377c4e98-67f0-45e5-8dd5-0417585754f0",
   "metadata": {},
   "outputs": [],
   "source": []
  }
 ],
 "metadata": {
  "kernelspec": {
   "display_name": "Python 3",
   "language": "python",
   "name": "python3"
  },
  "language_info": {
   "codemirror_mode": {
    "name": "ipython",
    "version": 3
   },
   "file_extension": ".py",
   "mimetype": "text/x-python",
   "name": "python",
   "nbconvert_exporter": "python",
   "pygments_lexer": "ipython3",
   "version": "3.9.1+"
  }
 },
 "nbformat": 4,
 "nbformat_minor": 5
}